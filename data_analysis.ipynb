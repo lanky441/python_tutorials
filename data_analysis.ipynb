{
  "nbformat": 4,
  "nbformat_minor": 0,
  "metadata": {
    "colab": {
      "provenance": [],
      "authorship_tag": "ABX9TyNbJ+j6//hPgnBfSumT1uU1",
      "include_colab_link": true
    },
    "kernelspec": {
      "name": "python3",
      "display_name": "Python 3"
    },
    "language_info": {
      "name": "python"
    }
  },
  "cells": [
    {
      "cell_type": "markdown",
      "metadata": {
        "id": "view-in-github",
        "colab_type": "text"
      },
      "source": [
        "<a href=\"https://colab.research.google.com/github/lanky441/python_tutorials/blob/main/data_analysis.ipynb\" target=\"_parent\"><img src=\"https://colab.research.google.com/assets/colab-badge.svg\" alt=\"Open In Colab\"/></a>"
      ]
    },
    {
      "cell_type": "code",
      "execution_count": null,
      "metadata": {
        "id": "t8gTT0u1QZ-T"
      },
      "outputs": [],
      "source": [
        "import numpy as np\n",
        "import matplotlib.pyplot as plt"
      ]
    },
    {
      "cell_type": "markdown",
      "source": [
        "## How to read data from a file saved in your machine"
      ],
      "metadata": {
        "id": "uPAx4Y2o5gOQ"
      }
    },
    {
      "cell_type": "code",
      "source": [
        "data = np.genfromtxt(\"V_I.txt\")\n",
        "print(data.shape)\n",
        "print(data)"
      ],
      "metadata": {
        "id": "OT7Yjizo5fYs"
      },
      "execution_count": null,
      "outputs": []
    },
    {
      "cell_type": "code",
      "source": [
        "data = data.transpose()\n",
        "print(data.shape)\n",
        "print(data)"
      ],
      "metadata": {
        "id": "VzhrZTIm54p4"
      },
      "execution_count": null,
      "outputs": []
    },
    {
      "cell_type": "code",
      "source": [
        "Vs = data[0]\n",
        "Is = data[1]\n",
        "Ierr = data[2]\n",
        "print(Vs)\n",
        "print(Is)\n",
        "print(Ierr)"
      ],
      "metadata": {
        "id": "B2y--gcS6FTq"
      },
      "execution_count": null,
      "outputs": []
    },
    {
      "cell_type": "markdown",
      "source": [
        "## Let us plot them\n",
        "`V` on the x-axis and `I` on the y-axis"
      ],
      "metadata": {
        "id": "Rzh1-vTW6Y0X"
      }
    },
    {
      "cell_type": "code",
      "source": [
        "plt.scatter(Vs, Is)\n",
        "plt.ylabel('Current (Amp)')\n",
        "plt.xlabel('Voltage (Volt)')\n",
        "plt.show()"
      ],
      "metadata": {
        "id": "ZOpsE3EA6Lpr"
      },
      "execution_count": null,
      "outputs": []
    },
    {
      "cell_type": "markdown",
      "source": [
        "## How do we save the plot in our machine"
      ],
      "metadata": {
        "id": "DF08FnS-6pGV"
      }
    },
    {
      "cell_type": "code",
      "source": [
        "plt.scatter(Vs, Is)\n",
        "plt.ylabel('Current (Amp)')\n",
        "plt.xlabel('Voltage (Volt)')\n",
        "\n",
        "plt.savefig('V_I.png') # Remember to save before plt.show()\n",
        "\n",
        "plt.show()"
      ],
      "metadata": {
        "id": "DhUBKU8q6vNs"
      },
      "execution_count": null,
      "outputs": []
    },
    {
      "cell_type": "markdown",
      "source": [
        "## How do we plot with the errorbars?"
      ],
      "metadata": {
        "id": "lInpOrPQ-_Wl"
      }
    },
    {
      "cell_type": "code",
      "source": [
        "plt.errorbar(Vs, Is, yerr=Ierr)\n",
        "plt.ylabel('Current (Amp)')\n",
        "plt.xlabel('Voltage (Volt)')\n",
        "plt.show()"
      ],
      "metadata": {
        "id": "nb9sqon86vQH"
      },
      "execution_count": null,
      "outputs": []
    },
    {
      "cell_type": "markdown",
      "source": [
        "## Let us customize it"
      ],
      "metadata": {
        "id": "QeBlf13k_MzO"
      }
    },
    {
      "cell_type": "code",
      "source": [
        "plt.errorbar(Vs, Is, yerr=Ierr, fmt='o b', capsize=3) # fmt = '[marker][line][color]'\n",
        "plt.ylabel('Current (Amp)')\n",
        "plt.xlabel('Voltage (Volt)')\n",
        "plt.savefig('V_I_error.png')\n",
        "plt.show()"
      ],
      "metadata": {
        "id": "3985tdVx6vSi"
      },
      "execution_count": null,
      "outputs": []
    },
    {
      "cell_type": "markdown",
      "source": [
        "## Let us read a different type of file\n",
        "\n",
        "Althogth `pandas` is better for reading `csv` files, we can still read it using `numpy`."
      ],
      "metadata": {
        "id": "gHi_VhSyAno3"
      }
    },
    {
      "cell_type": "code",
      "source": [
        "data = np.genfromtxt('sample_data/california_housing_test.csv', delimiter=',') # delimiter -> what separates different columns\n",
        "# For a csv file, the delimiter in `,`\n",
        "print(data.shape)\n",
        "print(data)"
      ],
      "metadata": {
        "id": "9GYXVqSD6vU6"
      },
      "execution_count": null,
      "outputs": []
    },
    {
      "cell_type": "code",
      "source": [
        "csv_data = np.genfromtxt('sample_data/california_housing_test.csv', delimiter=',', skip_header=1) # skip_header -> number of rows to skip\n",
        "print(csv_data.shape)\n",
        "print(csv_data)"
      ],
      "metadata": {
        "id": "Bt8yR5Li6vXP"
      },
      "execution_count": null,
      "outputs": []
    },
    {
      "cell_type": "code",
      "source": [
        "data_columns = csv_data.transpose()\n",
        "print(data_columns.shape)"
      ],
      "metadata": {
        "id": "5lqSglqtCBny"
      },
      "execution_count": null,
      "outputs": []
    },
    {
      "cell_type": "code",
      "source": [
        "plt.scatter(data_columns[0], data_columns[1])\n",
        "plt.xlabel('Longitude (deg)')\n",
        "plt.ylabel('Latitude (deg)')\n",
        "plt.show()"
      ],
      "metadata": {
        "id": "qS7UiPss6vZk"
      },
      "execution_count": null,
      "outputs": []
    },
    {
      "cell_type": "markdown",
      "source": [
        "# Fitting data to a model\n",
        "### Ohm's law\n",
        "`V = I R` or `I = V/R`\n",
        "\n",
        "`V`: Voltage\n",
        "\n",
        "`I`: Current\n",
        "\n",
        "`R`: Resistance\n"
      ],
      "metadata": {
        "id": "gZnInbOJF-Mh"
      }
    },
    {
      "cell_type": "code",
      "source": [
        "# Let us first plot them\n",
        "data = np.genfromtxt(\"V_I.txt\").transpose()\n",
        "Vs = data[0]\n",
        "Is = data[1]\n",
        "\n",
        "# Usually it is recommended to plot the free variable on the x-axis\n",
        "\n",
        "plt.scatter(Vs, Is)\n",
        "plt.ylabel('Current (Amp)')\n",
        "plt.xlabel('Voltage (Volt)')\n",
        "plt.show()"
      ],
      "metadata": {
        "id": "Irx2Kit5F-dg"
      },
      "execution_count": null,
      "outputs": []
    },
    {
      "cell_type": "code",
      "source": [
        "# Now, we can fit `V = IR` funtion to those points to calculate the average `R`\n",
        "# For that, we first need to create a function\n",
        "\n",
        "def get_I(V, R):\n",
        "    return V/R"
      ],
      "metadata": {
        "id": "HwjX7c8PF-f8"
      },
      "execution_count": null,
      "outputs": []
    },
    {
      "cell_type": "markdown",
      "source": [
        "## Now, we will use `scipy.optimize.curve_fit` to fit our model (function) to the data"
      ],
      "metadata": {
        "id": "aUfyM6rbDf7r"
      }
    },
    {
      "cell_type": "code",
      "source": [
        "from scipy.optimize import curve_fit\n",
        "# curve_fit(function, xdata, ydata, sigma=yerror)\n",
        "# the first argument to the function is treated as xdata, and all the other argumnet parameters are fitted for\n",
        "popt, pcov = curve_fit(get_I, Vs, Is, sigma=Ierr) # popt -> optimized parameters, pcov -> covariance matrix\n",
        "print(popt)"
      ],
      "metadata": {
        "id": "2oCVuNtcF-lC"
      },
      "execution_count": null,
      "outputs": []
    },
    {
      "cell_type": "code",
      "source": [
        "# You can also calculate the uncertainty of the model parameters\n",
        "perr = np.sqrt(np.diag(pcov))\n",
        "print(perr)"
      ],
      "metadata": {
        "id": "-RlP7RD3JOop"
      },
      "execution_count": null,
      "outputs": []
    },
    {
      "cell_type": "code",
      "source": [
        "resistance = popt[0]\n",
        "print(resistance)"
      ],
      "metadata": {
        "id": "dLnoU0drQc6N"
      },
      "execution_count": null,
      "outputs": []
    },
    {
      "cell_type": "code",
      "source": [
        "v_sample = np.linspace(0, 10, 30)\n",
        "i_sample = get_I(v_sample, resistance)\n",
        "\n",
        "plt.errorbar(Vs, Is, yerr=Ierr, fmt='o b', capsize=3, label='Data')\n",
        "plt.plot(v_sample, i_sample, 'r', label='Fit')\n",
        "plt.legend()\n",
        "plt.ylabel('Current (Amp)')\n",
        "plt.xlabel('Voltage (Volt)')\n",
        "plt.title(f\"Resistance = {resistance:.4f} +/- {perr[0]:.4f} Ohm\")\n",
        "plt.savefig('V_I_fit.png')\n",
        "plt.show()"
      ],
      "metadata": {
        "id": "YM-jUf4UFf4A"
      },
      "execution_count": null,
      "outputs": []
    },
    {
      "cell_type": "markdown",
      "source": [
        "## F-string"
      ],
      "metadata": {
        "id": "XZKIcJ0GFhuU"
      }
    },
    {
      "cell_type": "code",
      "source": [
        "a = 1\n",
        "b = 2\n",
        "print(f\"a = {a}, b = {b}\")"
      ],
      "metadata": {
        "id": "JAu0lahmFg0I"
      },
      "execution_count": null,
      "outputs": []
    },
    {
      "cell_type": "code",
      "source": [
        "a = np.pi\n",
        "b = 0.00000251564\n",
        "print(f\"a = {a:.2f}, b = {b:.4e}\")"
      ],
      "metadata": {
        "id": "OXw3ySzFFpNi"
      },
      "execution_count": null,
      "outputs": []
    },
    {
      "cell_type": "markdown",
      "source": [
        "## Let us take a look at another example\n",
        " You are given `xdata` and `ydata`. You need to fit a straight line and find the best fit value of `slope (m)` and `interception (c)`.\n",
        "\n",
        " `y = m*x + c`"
      ],
      "metadata": {
        "id": "SMtMV_9KF_56"
      }
    },
    {
      "cell_type": "code",
      "source": [
        "m = 2\n",
        "c = 1\n",
        "\n",
        "x = np.linspace(0, 10, 30)\n",
        "y = m * x + c + np.random.normal(0, 0.5, 30)\n",
        "\n",
        "plt.scatter(x, y)\n",
        "plt.xlabel('x')\n",
        "plt.ylabel('y')\n",
        "plt.show()"
      ],
      "metadata": {
        "id": "uNyhC8fQG5H-"
      },
      "execution_count": null,
      "outputs": []
    },
    {
      "cell_type": "code",
      "source": [
        "# First, define the function\n",
        "def get_y(x, m, c):\n",
        "    return m * x + c"
      ],
      "metadata": {
        "id": "b6GC7FM7HRO2"
      },
      "execution_count": null,
      "outputs": []
    },
    {
      "cell_type": "code",
      "source": [
        "popt, pcov = curve_fit(get_y, x, y)\n",
        "print(popt)"
      ],
      "metadata": {
        "id": "p-IpVvLNHVWa"
      },
      "execution_count": null,
      "outputs": []
    },
    {
      "cell_type": "code",
      "source": [
        "# Model parameter uncertainties\n",
        "perr = np.sqrt(np.diag(pcov))\n",
        "print(perr)"
      ],
      "metadata": {
        "id": "xeDwQrbwJixC"
      },
      "execution_count": null,
      "outputs": []
    },
    {
      "cell_type": "code",
      "source": [
        "plt.scatter(x, y, label=\"Data\")\n",
        "plt.plot(x, get_y(x, popt[0], popt[1]), 'r', label=\"Fit\")\n",
        "plt.legend()\n",
        "plt.title(f\"m = {popt[0]:.3f} +/- {perr[0]:.3f}, c = {popt[1]:.2f} +/- {perr[1]:.3f}\")\n",
        "plt.xlabel('x')\n",
        "plt.ylabel('y')\n",
        "plt.show()"
      ],
      "metadata": {
        "id": "2hnctjTVHid8"
      },
      "execution_count": null,
      "outputs": []
    }
  ]
}