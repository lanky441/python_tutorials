{
  "nbformat": 4,
  "nbformat_minor": 0,
  "metadata": {
    "colab": {
      "provenance": [],
      "mount_file_id": "1XxKsM48Txbed5cF91zfzef9TACxWF0Mx",
      "authorship_tag": "ABX9TyODy2JDokWKKl+JdplT/n46",
      "include_colab_link": true
    },
    "kernelspec": {
      "name": "python3",
      "display_name": "Python 3"
    },
    "language_info": {
      "name": "python"
    }
  },
  "cells": [
    {
      "cell_type": "markdown",
      "metadata": {
        "id": "view-in-github",
        "colab_type": "text"
      },
      "source": [
        "<a href=\"https://colab.research.google.com/github/lanky441/python_tutorials/blob/main/Basic_python.ipynb\" target=\"_parent\"><img src=\"https://colab.research.google.com/assets/colab-badge.svg\" alt=\"Open In Colab\"/></a>"
      ]
    },
    {
      "cell_type": "markdown",
      "source": [
        "## What is python?\n",
        "Python is a programming language! Just like English is a language that we use to express our feelings and thoughts (through speaking or writing), python is a language to write programs.\n",
        "\n",
        "## What is a program then?\n",
        "A computer program is a sequence or set of instructions for a computer to execute. You can use computer program to do many things including mathematical calculations, web development, making softwares (the limit is only your imagination).\n",
        "\n",
        "## Just like we have other languages like english, do we have more programming languages?\n",
        "Yes, there are many programming languages like python, e.g., `Java`, `C++`, `R`. Different programming languages are better suited for different jobs and they all have some advantages and some disadvantages.\n",
        "\n",
        "## Why learn python?\n",
        "Python is very intuitive and easy to learn. Also, it is very popular. So if you learn python, you can write a program that many people will understand and benifit from. You will also have access to many many python programs others have already written and can use them for your own work. You will become part of a big community and so, if you have any problem while writing your program, there will be many people to help you."
      ],
      "metadata": {
        "id": "KQiSBTfAST2l"
      }
    },
    {
      "cell_type": "markdown",
      "source": [
        "## Let us start learning. Firstly, we can use python as calculator.\n",
        "\n",
        "We can use python for all basic algebra like addition (+), subtraction (-), multiplication (\\*), division (/), and exponentiation (\\*\\*). Here are the list of avalaible operations.\n",
        "<br>\n",
        "<br>\n",
        "<img src='https://drive.google.com/uc?id=1oWIHaQ7iBeObJJWTooYigxNRfYnOqEna' width='600'>\n",
        "<br>\n",
        "## Putting comments\n",
        "We use `#` for putting comments in our code, i.e., the lines starting with `#` will be not executed by python."
      ],
      "metadata": {
        "id": "C8XsAbAoW2XA"
      }
    },
    {
      "cell_type": "code",
      "execution_count": null,
      "metadata": {
        "id": "lnd7W_IASIkI",
        "colab": {
          "base_uri": "https://localhost:8080/"
        },
        "outputId": "5fc64473-e766-4e4b-91bc-0ed63d0f2103"
      },
      "outputs": [
        {
          "output_type": "execute_result",
          "data": {
            "text/plain": [
              "5"
            ]
          },
          "metadata": {},
          "execution_count": 1
        }
      ],
      "source": [
        "# Addition\n",
        "2+3"
      ]
    },
    {
      "cell_type": "code",
      "source": [
        "# Subtraction\n",
        "11-6"
      ],
      "metadata": {
        "id": "16_vfppeXEOZ",
        "colab": {
          "base_uri": "https://localhost:8080/"
        },
        "outputId": "bdf78883-f2e6-438c-8685-f4196505838f"
      },
      "execution_count": null,
      "outputs": [
        {
          "output_type": "execute_result",
          "data": {
            "text/plain": [
              "5"
            ]
          },
          "metadata": {},
          "execution_count": 2
        }
      ]
    },
    {
      "cell_type": "code",
      "source": [
        "# Multiplication\n",
        "5*12"
      ],
      "metadata": {
        "id": "GMWZJzeIXrd2",
        "colab": {
          "base_uri": "https://localhost:8080/"
        },
        "outputId": "4fc98aeb-da18-47bf-d46a-fc385ff4c586"
      },
      "execution_count": null,
      "outputs": [
        {
          "output_type": "execute_result",
          "data": {
            "text/plain": [
              "60"
            ]
          },
          "metadata": {},
          "execution_count": 3
        }
      ]
    },
    {
      "cell_type": "code",
      "source": [
        "# Division\n",
        "12/3"
      ],
      "metadata": {
        "id": "IRW4MIbcXv3W",
        "colab": {
          "base_uri": "https://localhost:8080/"
        },
        "outputId": "38787bb9-3879-4bea-ed20-d92b91a8bfac"
      },
      "execution_count": null,
      "outputs": [
        {
          "output_type": "execute_result",
          "data": {
            "text/plain": [
              "4.0"
            ]
          },
          "metadata": {},
          "execution_count": 4
        }
      ]
    },
    {
      "cell_type": "code",
      "source": [
        "# Exponent\n",
        "5**2"
      ],
      "metadata": {
        "id": "8Kv5FwLiYCFc",
        "colab": {
          "base_uri": "https://localhost:8080/"
        },
        "outputId": "36007b83-1065-4efe-8776-bbc4f234a9ec"
      },
      "execution_count": null,
      "outputs": [
        {
          "output_type": "execute_result",
          "data": {
            "text/plain": [
              "25"
            ]
          },
          "metadata": {},
          "execution_count": 5
        }
      ]
    },
    {
      "cell_type": "markdown",
      "source": [
        "**Check what `%` and `//` are used for..**"
      ],
      "metadata": {
        "id": "-JId967c0HKp"
      }
    },
    {
      "cell_type": "code",
      "source": [
        "32%5"
      ],
      "metadata": {
        "id": "Z7t-D88A0TGc",
        "colab": {
          "base_uri": "https://localhost:8080/"
        },
        "outputId": "c719c26d-c38a-4d45-c0b9-c48c22042a79"
      },
      "execution_count": null,
      "outputs": [
        {
          "output_type": "execute_result",
          "data": {
            "text/plain": [
              "2"
            ]
          },
          "metadata": {},
          "execution_count": 6
        }
      ]
    },
    {
      "cell_type": "code",
      "source": [
        "32//5"
      ],
      "metadata": {
        "id": "ZyIHeukN0ef6",
        "colab": {
          "base_uri": "https://localhost:8080/"
        },
        "outputId": "34effc7f-76b1-4846-9704-d3b328e97012"
      },
      "execution_count": null,
      "outputs": [
        {
          "output_type": "execute_result",
          "data": {
            "text/plain": [
              "6"
            ]
          },
          "metadata": {},
          "execution_count": 8
        }
      ]
    },
    {
      "cell_type": "markdown",
      "source": [
        "## Variables\n",
        "Variables are containers for storing data values. A variable is created the moment you first assign a value to it."
      ],
      "metadata": {
        "id": "RHgwXIwYfZsx"
      }
    },
    {
      "cell_type": "code",
      "source": [
        "x = 5\n",
        "y = 3.14\n",
        "z = \"John\""
      ],
      "metadata": {
        "id": "gzFS-2EZgisc"
      },
      "execution_count": null,
      "outputs": []
    },
    {
      "cell_type": "markdown",
      "source": [
        "## Print function\n",
        "You can print something using the `print` function. The systax is `print(what you want to print)`"
      ],
      "metadata": {
        "id": "Aep8yY-lYbnT"
      }
    },
    {
      "cell_type": "code",
      "source": [
        "print(\"Hello, World!\")"
      ],
      "metadata": {
        "id": "Ar_BVfQbYHT6",
        "colab": {
          "base_uri": "https://localhost:8080/"
        },
        "outputId": "a8d0f546-d52e-4d3c-c62a-13bb57dd0c14"
      },
      "execution_count": null,
      "outputs": [
        {
          "output_type": "stream",
          "name": "stdout",
          "text": [
            "Hello, World!\n"
          ]
        }
      ]
    },
    {
      "cell_type": "code",
      "source": [
        "x = 5\n",
        "y = 3.14\n",
        "z = \"John\"\n",
        "\n",
        "print(x)\n",
        "print(y)\n",
        "print(z)"
      ],
      "metadata": {
        "id": "Ff2bERSIYTcJ",
        "colab": {
          "base_uri": "https://localhost:8080/"
        },
        "outputId": "15c9cbf8-baaf-44fa-c961-c2aade61cac0"
      },
      "execution_count": null,
      "outputs": [
        {
          "output_type": "stream",
          "name": "stdout",
          "text": [
            "5\n",
            "3.14\n",
            "John\n"
          ]
        }
      ]
    },
    {
      "cell_type": "markdown",
      "source": [
        "By default, the `print` statement ends with a `linebreak`. But, you can change it if you want by using the `end` argument."
      ],
      "metadata": {
        "id": "EQX-h2YpY-JJ"
      }
    },
    {
      "cell_type": "code",
      "source": [
        "x = 5\n",
        "y = 3.14\n",
        "z = \"John\"\n",
        "\n",
        "print(x, end=' ')\n",
        "print(y, end=' ')\n",
        "print(z, end=' ')"
      ],
      "metadata": {
        "id": "y7k9Dy3hZI51",
        "colab": {
          "base_uri": "https://localhost:8080/"
        },
        "outputId": "fc2edb6d-cf6d-4b60-8d73-fa8dd3428f09"
      },
      "execution_count": null,
      "outputs": [
        {
          "output_type": "stream",
          "name": "stdout",
          "text": [
            "5 3.14 John "
          ]
        }
      ]
    },
    {
      "cell_type": "code",
      "source": [
        "x = 5\n",
        "y = 3.14\n",
        "z = \"John\"\n",
        "\n",
        "print(x, end='\\t') # tab\n",
        "print(y, end='\\n') # linebreak\n",
        "print(z, end='...')"
      ],
      "metadata": {
        "id": "gjVZUesNZhi7",
        "colab": {
          "base_uri": "https://localhost:8080/"
        },
        "outputId": "c3836b0b-8eac-43ec-ac63-dbb3f503b1d9"
      },
      "execution_count": null,
      "outputs": [
        {
          "output_type": "stream",
          "name": "stdout",
          "text": [
            "5\t3.14\n",
            "John..."
          ]
        }
      ]
    },
    {
      "cell_type": "markdown",
      "source": [
        "# Python Data Types\n",
        "\n",
        "Variables can store data of different types, and different types can do different things.\n",
        "\n",
        "Python has the following data types built-in by default, in these categories:\n",
        "\n",
        "<br>\n",
        "<br>\n",
        "<img src='https://drive.google.com/uc?id=1Mn39mDoysLOvrgpE-n02qryeFYJdXQFn' width='500'>\n",
        "<br>\n"
      ],
      "metadata": {
        "id": "rtXmWMWFUxWq"
      }
    },
    {
      "cell_type": "code",
      "source": [
        "# str\n",
        "x = \"Hello World\"\n",
        "print(x)\n",
        "print(type(x))"
      ],
      "metadata": {
        "id": "BZZGoaZ5UlhS",
        "colab": {
          "base_uri": "https://localhost:8080/"
        },
        "outputId": "93a0150f-e57a-4556-9f13-3a7f293907b2"
      },
      "execution_count": null,
      "outputs": [
        {
          "output_type": "stream",
          "name": "stdout",
          "text": [
            "Hello World\n",
            "<class 'str'>\n"
          ]
        }
      ]
    },
    {
      "cell_type": "code",
      "source": [
        "# str\n",
        "x = \"123\"\n",
        "print(x)\n",
        "print(type(x))"
      ],
      "metadata": {
        "id": "00oxv4SQRcu_",
        "colab": {
          "base_uri": "https://localhost:8080/"
        },
        "outputId": "0079e722-253c-473e-d2d7-f4f70e768bcc"
      },
      "execution_count": null,
      "outputs": [
        {
          "output_type": "stream",
          "name": "stdout",
          "text": [
            "123\n",
            "<class 'str'>\n"
          ]
        }
      ]
    },
    {
      "cell_type": "code",
      "source": [
        "# You can add two strings with `+` operator\n",
        "x = \"Hello \"\n",
        "y = \"World!\"\n",
        "print(x + y)"
      ],
      "metadata": {
        "id": "QBl1rIUWZA7Y",
        "colab": {
          "base_uri": "https://localhost:8080/"
        },
        "outputId": "c3840151-c1d3-4cbd-932d-1c09469d6c68"
      },
      "execution_count": null,
      "outputs": [
        {
          "output_type": "stream",
          "name": "stdout",
          "text": [
            "Hello World!\n"
          ]
        }
      ]
    },
    {
      "cell_type": "code",
      "source": [
        "x = \"1\"\n",
        "y = \"2\"\n",
        "print(x + y)"
      ],
      "metadata": {
        "id": "yIr0MH7wRkAP"
      },
      "execution_count": null,
      "outputs": []
    },
    {
      "cell_type": "code",
      "source": [
        "# int\n",
        "x = 20\n",
        "print(x)\n",
        "print(type(x))"
      ],
      "metadata": {
        "id": "quws6nGoaMol",
        "colab": {
          "base_uri": "https://localhost:8080/"
        },
        "outputId": "17b843fa-378d-4d1d-b0b9-1f0b540966ae"
      },
      "execution_count": null,
      "outputs": [
        {
          "output_type": "stream",
          "name": "stdout",
          "text": [
            "20\n",
            "<class 'int'>\n"
          ]
        }
      ]
    },
    {
      "cell_type": "code",
      "source": [
        "# float\n",
        "x = 20.5\n",
        "print(x)\n",
        "print(type(x))"
      ],
      "metadata": {
        "id": "loeoJVfZaXJn",
        "colab": {
          "base_uri": "https://localhost:8080/"
        },
        "outputId": "01525cbc-b750-4c24-b245-14f1f3a253e4"
      },
      "execution_count": null,
      "outputs": [
        {
          "output_type": "stream",
          "name": "stdout",
          "text": [
            "20.5\n",
            "<class 'float'>\n"
          ]
        }
      ]
    },
    {
      "cell_type": "markdown",
      "source": [
        "**Boolean**"
      ],
      "metadata": {
        "id": "Rmpct4LIIa4o"
      }
    },
    {
      "cell_type": "code",
      "source": [
        "# bool\n",
        "x = True\n",
        "print(x)\n",
        "print(type(x))"
      ],
      "metadata": {
        "id": "oRKEWsfpIONA",
        "colab": {
          "base_uri": "https://localhost:8080/"
        },
        "outputId": "c788b753-7e92-40c7-a26f-d449ae7fcfeb"
      },
      "execution_count": null,
      "outputs": [
        {
          "output_type": "stream",
          "name": "stdout",
          "text": [
            "True\n",
            "<class 'bool'>\n"
          ]
        }
      ]
    },
    {
      "cell_type": "code",
      "source": [
        "x = 5 > 3\n",
        "print(x)\n",
        "print(type(x))"
      ],
      "metadata": {
        "id": "5N9Jm2v6IhIc",
        "colab": {
          "base_uri": "https://localhost:8080/"
        },
        "outputId": "c64ad562-d43e-4e00-b846-0e13fdbb8d77"
      },
      "execution_count": null,
      "outputs": [
        {
          "output_type": "stream",
          "name": "stdout",
          "text": [
            "True\n",
            "<class 'bool'>\n"
          ]
        }
      ]
    },
    {
      "cell_type": "code",
      "source": [
        "# notice the `==` sign. In python, single `=` is used for an assignment\n",
        "# and `==` is used to check equality.\n",
        "x = 5 == 3\n",
        "print(x)\n",
        "print(type(x))"
      ],
      "metadata": {
        "id": "sIEhTXZeImQ_",
        "colab": {
          "base_uri": "https://localhost:8080/"
        },
        "outputId": "27f7b014-979a-42d4-da72-6d0cc307676f"
      },
      "execution_count": null,
      "outputs": [
        {
          "output_type": "stream",
          "name": "stdout",
          "text": [
            "False\n",
            "<class 'bool'>\n"
          ]
        }
      ]
    },
    {
      "cell_type": "markdown",
      "source": [
        "# list"
      ],
      "metadata": {
        "id": "CxdJsU1LbSNh"
      }
    },
    {
      "cell_type": "code",
      "source": [
        "# list\n",
        "x = [\"apple\", \"banana\", \"cherry\"]\n",
        "print(x)\n",
        "print(type(x))"
      ],
      "metadata": {
        "id": "Zr9C3CzsafNB",
        "colab": {
          "base_uri": "https://localhost:8080/"
        },
        "outputId": "5e1d4956-8a08-446e-f4d7-9494939750b8"
      },
      "execution_count": null,
      "outputs": [
        {
          "output_type": "stream",
          "name": "stdout",
          "text": [
            "['apple', 'banana', 'cherry']\n",
            "<class 'list'>\n"
          ]
        }
      ]
    },
    {
      "cell_type": "code",
      "source": [
        "x = [\"apple\", 1.5, 20]\n",
        "print(x)"
      ],
      "metadata": {
        "id": "R4rcWp0jamWu",
        "colab": {
          "base_uri": "https://localhost:8080/"
        },
        "outputId": "042fec4f-69c8-44ad-f109-aa063de8e8ee"
      },
      "execution_count": null,
      "outputs": [
        {
          "output_type": "stream",
          "name": "stdout",
          "text": [
            "['apple', 1.5, 20]\n"
          ]
        }
      ]
    },
    {
      "cell_type": "markdown",
      "source": [
        "List items are ordered, changeable, and allow duplicate values.\n",
        "\n",
        "List items are indexed, the first item has index [0], the second item has index [1] etc."
      ],
      "metadata": {
        "id": "Gk3Lu2h9cF_W"
      }
    },
    {
      "cell_type": "code",
      "source": [
        "print(x[0])\n",
        "print(type(x[0]))"
      ],
      "metadata": {
        "id": "qbKq6NUgbZRl",
        "colab": {
          "base_uri": "https://localhost:8080/"
        },
        "outputId": "6fcd60d9-f6f1-44a3-a1de-7e668bf495da"
      },
      "execution_count": null,
      "outputs": [
        {
          "output_type": "stream",
          "name": "stdout",
          "text": [
            "apple\n",
            "<class 'str'>\n"
          ]
        }
      ]
    },
    {
      "cell_type": "code",
      "source": [
        "print(x[1])\n",
        "print(type(x[1]))"
      ],
      "metadata": {
        "id": "Z5uKj8qFcU6U",
        "colab": {
          "base_uri": "https://localhost:8080/"
        },
        "outputId": "0908a0f1-ac87-41a5-da38-ab603534b0ae"
      },
      "execution_count": null,
      "outputs": [
        {
          "output_type": "stream",
          "name": "stdout",
          "text": [
            "1.5\n",
            "<class 'float'>\n"
          ]
        }
      ]
    },
    {
      "cell_type": "markdown",
      "source": [
        "We can access items in a list backward by using negative index. The last item has index `-1`, second last `-2`, ..."
      ],
      "metadata": {
        "id": "f0ADak_i1F_X"
      }
    },
    {
      "cell_type": "code",
      "source": [
        "print(x[-1])\n",
        "print(x[-2])"
      ],
      "metadata": {
        "id": "FiBMXOMwcgkr",
        "colab": {
          "base_uri": "https://localhost:8080/"
        },
        "outputId": "f2aee47f-374b-4416-8ccc-c74e910542d3"
      },
      "execution_count": null,
      "outputs": [
        {
          "output_type": "stream",
          "name": "stdout",
          "text": [
            "20\n",
            "1.5\n"
          ]
        }
      ]
    },
    {
      "cell_type": "code",
      "source": [
        "# exercise\n",
        "# create a list with 12 items of different data types including int, float, str, and bool\n",
        "# print the 3rd and 8th items of the list\n",
        "# Also, print the 3rd last item of the list\n",
        "\n",
        "a = [1, 2, 5.4, 'a', True, \"apple\", 7, False, 3.14, \"banana\", 1.0, \"d\"]\n",
        "print(\"Length of the list = \", len(a))\n",
        "\n",
        "print(\"3rd item = \", a[2])\n",
        "print(\"8th item = \", a[7])\n",
        "print(\"3rd last item = \", a[-3])"
      ],
      "metadata": {
        "id": "IAW7rl65n93J",
        "colab": {
          "base_uri": "https://localhost:8080/"
        },
        "outputId": "96cfed8e-019f-4f4e-da9f-8471a491cce6"
      },
      "execution_count": null,
      "outputs": [
        {
          "output_type": "stream",
          "name": "stdout",
          "text": [
            "Length of the list =  12\n",
            "3rd item =  5.4\n",
            "8th item =  False\n",
            "3rd last item =  banana\n"
          ]
        }
      ]
    },
    {
      "cell_type": "markdown",
      "source": [
        "A `str` is a list of characters!"
      ],
      "metadata": {
        "id": "vI-el8le2XR5"
      }
    },
    {
      "cell_type": "code",
      "source": [
        "a = \"Hello World!\"\n",
        "print(a)\n",
        "print(a[0])\n",
        "print(a[5])\n",
        "print(a[-1])"
      ],
      "metadata": {
        "id": "udd3SlwucU9P",
        "colab": {
          "base_uri": "https://localhost:8080/"
        },
        "outputId": "3ce4ed50-7521-49a2-b510-0014194c7308"
      },
      "execution_count": null,
      "outputs": [
        {
          "output_type": "stream",
          "name": "stdout",
          "text": [
            "Hello World!\n",
            "H\n",
            " \n",
            "!\n"
          ]
        }
      ]
    },
    {
      "cell_type": "markdown",
      "source": [
        "## Manipulating lists\n",
        "\n",
        "Python has some built-in methods we can use on list. Feel free to try all of them at home. Here we will look into a few of them.\n",
        "\n",
        "<br>\n",
        "<br>\n",
        "<img src='https://drive.google.com/uc?id=1iDXJLQQ_iwrS9AEinXSeLCKPhFB9lI7V' width='500'>\n",
        "<br>"
      ],
      "metadata": {
        "id": "k__lEWRR2_Zs"
      }
    },
    {
      "cell_type": "code",
      "source": [
        "a = [1, 3, 2, 5, 4, 6, 7, 8, 9]\n",
        "print(a)"
      ],
      "metadata": {
        "id": "wh9xC_PFcVCy",
        "colab": {
          "base_uri": "https://localhost:8080/"
        },
        "outputId": "878f6dbf-4776-47e4-fef5-3d83e4f447d9"
      },
      "execution_count": null,
      "outputs": [
        {
          "output_type": "stream",
          "name": "stdout",
          "text": [
            "[1, 3, 2, 5, 4, 6, 7, 8, 9]\n"
          ]
        }
      ]
    },
    {
      "cell_type": "code",
      "source": [
        "a.append(10)\n",
        "print(a)"
      ],
      "metadata": {
        "id": "nr_NA5n24JI5",
        "colab": {
          "base_uri": "https://localhost:8080/"
        },
        "outputId": "b76c0ea3-0a01-448a-bfea-1c71a8192c0e"
      },
      "execution_count": null,
      "outputs": [
        {
          "output_type": "stream",
          "name": "stdout",
          "text": [
            "[1, 3, 2, 5, 4, 6, 7, 8, 9, 10]\n"
          ]
        }
      ]
    },
    {
      "cell_type": "code",
      "source": [
        "a.remove(2)\n",
        "print(a)"
      ],
      "metadata": {
        "id": "O88IOfDC4K5U",
        "colab": {
          "base_uri": "https://localhost:8080/"
        },
        "outputId": "e8b9778a-5497-4a8c-cba0-d712f9854d44"
      },
      "execution_count": null,
      "outputs": [
        {
          "output_type": "stream",
          "name": "stdout",
          "text": [
            "[1, 3, 5, 4, 6, 7, 8, 9, 10]\n"
          ]
        }
      ]
    },
    {
      "cell_type": "code",
      "source": [
        "# a.insert(index, object)\n",
        "a.insert(5, 2)\n",
        "print(a)"
      ],
      "metadata": {
        "id": "g0L5yktobZWU",
        "colab": {
          "base_uri": "https://localhost:8080/"
        },
        "outputId": "11b0ddb5-4341-4168-c47b-0ab7a80858dd"
      },
      "execution_count": null,
      "outputs": [
        {
          "output_type": "stream",
          "name": "stdout",
          "text": [
            "[1, 3, 5, 4, 6, 2, 7, 8, 9, 10]\n"
          ]
        }
      ]
    },
    {
      "cell_type": "code",
      "source": [
        "a.sort()\n",
        "print(a)"
      ],
      "metadata": {
        "id": "aLgYjOTmJWvQ",
        "colab": {
          "base_uri": "https://localhost:8080/"
        },
        "outputId": "8b1ed3c9-f294-43cf-b6a9-f5f18b78914e"
      },
      "execution_count": null,
      "outputs": [
        {
          "output_type": "stream",
          "name": "stdout",
          "text": [
            "[1, 2, 3, 4, 5, 6, 7, 8, 9, 10]\n"
          ]
        }
      ]
    },
    {
      "cell_type": "code",
      "source": [
        "a.sort(reverse=True)\n",
        "print(a)"
      ],
      "metadata": {
        "id": "ftpx4fOsLWoA",
        "colab": {
          "base_uri": "https://localhost:8080/"
        },
        "outputId": "e094e63b-e57a-4232-e429-e0e9eced681e"
      },
      "execution_count": null,
      "outputs": [
        {
          "output_type": "stream",
          "name": "stdout",
          "text": [
            "[10, 9, 8, 7, 6, 5, 4, 3, 2, 1]\n"
          ]
        }
      ]
    },
    {
      "cell_type": "code",
      "source": [
        "a.reverse()\n",
        "print(a)"
      ],
      "metadata": {
        "id": "hxJrmkOgLiC8",
        "colab": {
          "base_uri": "https://localhost:8080/"
        },
        "outputId": "d9a27ec8-db31-40da-c3c8-19e79d4a571c"
      },
      "execution_count": null,
      "outputs": [
        {
          "output_type": "stream",
          "name": "stdout",
          "text": [
            "[1, 2, 3, 4, 5, 6, 7, 8, 9, 10]\n"
          ]
        }
      ]
    },
    {
      "cell_type": "code",
      "source": [
        "# You can add the elements of two list to make one single list\n",
        "b = [1, 2, 3]\n",
        "c = a + b\n",
        "print(c)"
      ],
      "metadata": {
        "id": "NFdPDhqVZXQ3",
        "colab": {
          "base_uri": "https://localhost:8080/"
        },
        "outputId": "ccf1aac8-f3c1-4be2-8fa3-6692ab32ae43"
      },
      "execution_count": null,
      "outputs": [
        {
          "output_type": "stream",
          "name": "stdout",
          "text": [
            "[1, 2, 3, 4, 5, 6, 7, 8, 9, 10, 1, 2, 3]\n"
          ]
        }
      ]
    },
    {
      "cell_type": "code",
      "source": [
        "# exercise\n",
        "# Crate a list of different animals you like\n",
        "# Add one more animal name at the 3rd position\n",
        "# sort them alphabetically\n",
        "\n",
        "animals = [\"dog\", \"cat\", \"bird\", \"cow\"]\n",
        "\n",
        "animals.insert(2, \"elephant\")\n",
        "print(animals)\n",
        "\n",
        "animals.sort()\n",
        "print(animals)"
      ],
      "metadata": {
        "id": "D6irtBYdo4US",
        "colab": {
          "base_uri": "https://localhost:8080/"
        },
        "outputId": "0774c269-2ef1-4b47-a27c-355997cab0ef"
      },
      "execution_count": null,
      "outputs": [
        {
          "output_type": "stream",
          "name": "stdout",
          "text": [
            "['dog', 'cat', 'elephant', 'bird', 'cow']\n",
            "['bird', 'cat', 'cow', 'dog', 'elephant']\n"
          ]
        }
      ]
    },
    {
      "cell_type": "markdown",
      "source": [
        "**List slicing**\n",
        "\n",
        "You can access only a specified set of elements."
      ],
      "metadata": {
        "id": "fuqtoRH94m1n"
      }
    },
    {
      "cell_type": "code",
      "source": [
        "# a[start:end:step]\n",
        "# start index in included, but the end index is not included\n",
        "a = [1, 3, 2, 5, 4, 6, 7, 8, 9]\n",
        "print(a[2:8:2])"
      ],
      "metadata": {
        "id": "XoSIoxky4dB1",
        "colab": {
          "base_uri": "https://localhost:8080/"
        },
        "outputId": "a2997513-d437-41b0-b6fd-79c072b886e1"
      },
      "execution_count": null,
      "outputs": [
        {
          "output_type": "stream",
          "name": "stdout",
          "text": [
            "[2, 4, 7]\n"
          ]
        }
      ]
    },
    {
      "cell_type": "code",
      "source": [
        "# a[start:end:step]\n",
        "# By default, the `start = 0`, `end = -1`, and `step = 1`\n",
        "print(a[::])"
      ],
      "metadata": {
        "id": "7Ql0fr63LmZ4",
        "colab": {
          "base_uri": "https://localhost:8080/"
        },
        "outputId": "5e90a4f5-313e-4ad7-db10-e39b3f1ccebc"
      },
      "execution_count": null,
      "outputs": [
        {
          "output_type": "stream",
          "name": "stdout",
          "text": [
            "[1, 3, 2, 5, 4, 6, 7, 8, 9]\n"
          ]
        }
      ]
    },
    {
      "cell_type": "code",
      "source": [
        "# In fact, you can ignore the second `:` if you want `step = 1`\n",
        "print(a[:5])\n",
        "print(a[5:])"
      ],
      "metadata": {
        "id": "Zez4vmHGL_H6",
        "colab": {
          "base_uri": "https://localhost:8080/"
        },
        "outputId": "f64fc12f-c245-46e3-e645-b183b590b309"
      },
      "execution_count": null,
      "outputs": [
        {
          "output_type": "stream",
          "name": "stdout",
          "text": [
            "[1, 3, 2, 5, 4]\n",
            "[6, 7, 8, 9]\n"
          ]
        }
      ]
    },
    {
      "cell_type": "code",
      "source": [
        "# Exercise\n",
        "# Create a list of integers from 1 to 10\n",
        "# Print only the numbers between 3 and 9 from that list\n",
        "a = [1, 2, 3, 4, 5, 6, 7, 8, 9, 10]\n",
        "print(a[2:9])"
      ],
      "metadata": {
        "id": "yb4uP9Zw09zd",
        "colab": {
          "base_uri": "https://localhost:8080/"
        },
        "outputId": "547ec2f4-1c27-4fe0-8a08-ca119354b820"
      },
      "execution_count": null,
      "outputs": [
        {
          "output_type": "stream",
          "name": "stdout",
          "text": [
            "[3, 4, 5, 6, 7, 8, 9]\n"
          ]
        }
      ]
    },
    {
      "cell_type": "markdown",
      "source": [
        "## dictionary"
      ],
      "metadata": {
        "id": "gpMMmNbAbZn0"
      }
    },
    {
      "cell_type": "code",
      "source": [
        "# dictionary\n",
        "x = {\"name\" : \"John\", \"age\" : 36}\n",
        "print(x)\n",
        "print(type(x))"
      ],
      "metadata": {
        "id": "YubJhRKga3Km",
        "colab": {
          "base_uri": "https://localhost:8080/"
        },
        "outputId": "fb6adc59-c250-415c-f219-7b7431d3b9b3"
      },
      "execution_count": null,
      "outputs": [
        {
          "output_type": "stream",
          "name": "stdout",
          "text": [
            "{'name': 'John', 'age': 36}\n",
            "<class 'dict'>\n"
          ]
        }
      ]
    },
    {
      "cell_type": "code",
      "source": [
        "print(\"Name of the person:\", x[\"name\"])\n",
        "print(\"Age of the person:\", x[\"age\"])"
      ],
      "metadata": {
        "id": "m3Wc8ZB6bLmb",
        "colab": {
          "base_uri": "https://localhost:8080/"
        },
        "outputId": "4d06bb53-a6e5-484b-97c4-b588912fef87"
      },
      "execution_count": null,
      "outputs": [
        {
          "output_type": "stream",
          "name": "stdout",
          "text": [
            "Name of the person: John\n",
            "Age of the person: 36\n"
          ]
        }
      ]
    },
    {
      "cell_type": "markdown",
      "source": [
        "# Python Conditions and If statements\n",
        "\n",
        "Python supports the usual logical conditions from mathematics:\n",
        "- Equals: `a == b`\n",
        "- Not Equals: `a != b`\n",
        "- Less than: `a < b`\n",
        "- Less than or equal to: `a <= b`\n",
        "- Greater than: `a > b`\n",
        "- Greater than or equal to: `a >= b`"
      ],
      "metadata": {
        "id": "irwQmlf8M3FS"
      }
    },
    {
      "cell_type": "code",
      "source": [
        "a = 33\n",
        "b = 200\n",
        "if b > a:\n",
        "  print(\"b is greater than a\")"
      ],
      "metadata": {
        "id": "onq00W7GM1Io",
        "colab": {
          "base_uri": "https://localhost:8080/"
        },
        "outputId": "8ca8eab8-3e6f-46a4-f0b8-2520053737c5"
      },
      "execution_count": null,
      "outputs": [
        {
          "output_type": "stream",
          "name": "stdout",
          "text": [
            "b is greater than a\n"
          ]
        }
      ]
    },
    {
      "cell_type": "markdown",
      "source": [
        "### Indentation\n",
        "\n",
        "Python relies on indentation (whitespace at the beginning of a line) to define scope in the code"
      ],
      "metadata": {
        "id": "JvQ2Mqs2OAqC"
      }
    },
    {
      "cell_type": "code",
      "source": [
        "a = 10\n",
        "if a > 5:\n",
        "print(\"a is greater than 5\")"
      ],
      "metadata": {
        "id": "Y4CfjikIN7If",
        "colab": {
          "base_uri": "https://localhost:8080/",
          "height": 105
        },
        "outputId": "a0ebd3c3-9d07-4e4b-8ca5-bb0082f83c8a"
      },
      "execution_count": null,
      "outputs": [
        {
          "output_type": "error",
          "ename": "IndentationError",
          "evalue": "expected an indented block after 'if' statement on line 2 (<ipython-input-47-11de3b2f858b>, line 3)",
          "traceback": [
            "\u001b[0;36m  File \u001b[0;32m\"<ipython-input-47-11de3b2f858b>\"\u001b[0;36m, line \u001b[0;32m3\u001b[0m\n\u001b[0;31m    print(\"a is greater than 5\")\u001b[0m\n\u001b[0m    ^\u001b[0m\n\u001b[0;31mIndentationError\u001b[0m\u001b[0;31m:\u001b[0m expected an indented block after 'if' statement on line 2\n"
          ]
        }
      ]
    },
    {
      "cell_type": "code",
      "source": [
        "a = 10\n",
        "if a > 5:\n",
        "  print(\"a is greater than 5\")"
      ],
      "metadata": {
        "id": "KBhzvxbmOJ8M",
        "colab": {
          "base_uri": "https://localhost:8080/"
        },
        "outputId": "98459d98-bb7e-46b8-d851-bed4604b748c"
      },
      "execution_count": null,
      "outputs": [
        {
          "output_type": "stream",
          "name": "stdout",
          "text": [
            "a is greater than 5\n"
          ]
        }
      ]
    },
    {
      "cell_type": "code",
      "source": [
        "a = 10\n",
        "if a > 5:\n",
        "  print(\"a is greater than 5\")\n",
        "    print(\"That's great!\")"
      ],
      "metadata": {
        "id": "JljCZloBOP-x",
        "colab": {
          "base_uri": "https://localhost:8080/",
          "height": 105
        },
        "outputId": "ef382eb2-a6a6-4dc7-e961-893c549f1598"
      },
      "execution_count": null,
      "outputs": [
        {
          "output_type": "error",
          "ename": "IndentationError",
          "evalue": "unexpected indent (<ipython-input-49-809f91390c77>, line 4)",
          "traceback": [
            "\u001b[0;36m  File \u001b[0;32m\"<ipython-input-49-809f91390c77>\"\u001b[0;36m, line \u001b[0;32m4\u001b[0m\n\u001b[0;31m    print(\"That's great!\")\u001b[0m\n\u001b[0m    ^\u001b[0m\n\u001b[0;31mIndentationError\u001b[0m\u001b[0;31m:\u001b[0m unexpected indent\n"
          ]
        }
      ]
    },
    {
      "cell_type": "code",
      "source": [
        "a = 10\n",
        "if a > 5:\n",
        "  print(\"a is greater than 5\")\n",
        "  print(\"That's great!\")"
      ],
      "metadata": {
        "id": "uo624YoDOb6Q",
        "colab": {
          "base_uri": "https://localhost:8080/"
        },
        "outputId": "d09bda0b-2c45-45d4-953c-3d2265e6c2fb"
      },
      "execution_count": null,
      "outputs": [
        {
          "output_type": "stream",
          "name": "stdout",
          "text": [
            "a is greater than 5\n",
            "That's great!\n"
          ]
        }
      ]
    },
    {
      "cell_type": "markdown",
      "source": [
        "### elif\n",
        "\n",
        "The `elif` keyword is Python's way of saying \"if the previous conditions were not true, then try this condition\"."
      ],
      "metadata": {
        "id": "UY4qAV_mOs1h"
      }
    },
    {
      "cell_type": "code",
      "source": [
        "a = 33\n",
        "b = 33\n",
        "if b > a:\n",
        "  print(\"b is greater than a\")\n",
        "elif a == b:\n",
        "  print(\"a and b are equal\")"
      ],
      "metadata": {
        "id": "zexqmBxnOiB1",
        "colab": {
          "base_uri": "https://localhost:8080/"
        },
        "outputId": "554d4815-260f-43eb-e5ef-269aee65bcfa"
      },
      "execution_count": null,
      "outputs": [
        {
          "output_type": "stream",
          "name": "stdout",
          "text": [
            "a and b are equal\n"
          ]
        }
      ]
    },
    {
      "cell_type": "markdown",
      "source": [
        "### else\n",
        "The `else` keyword catches anything which isn't caught by the preceding conditions."
      ],
      "metadata": {
        "id": "cjwMg1HjPhrr"
      }
    },
    {
      "cell_type": "code",
      "source": [
        "a = 200\n",
        "b = 33\n",
        "if b > a:\n",
        "  print(\"b is greater than a\")\n",
        "elif a == b:\n",
        "  print(\"a and b are equal\")\n",
        "else:\n",
        "  print(\"a is greater than b\")"
      ],
      "metadata": {
        "id": "TRlw4GLvO3h8",
        "colab": {
          "base_uri": "https://localhost:8080/"
        },
        "outputId": "eab56038-828e-4969-c46d-96b169368959"
      },
      "execution_count": null,
      "outputs": [
        {
          "output_type": "stream",
          "name": "stdout",
          "text": [
            "a is greater than b\n"
          ]
        }
      ]
    },
    {
      "cell_type": "markdown",
      "source": [
        "### and\n",
        "The `and` keyword is a logical operator, and is used to combine conditional statements:"
      ],
      "metadata": {
        "id": "XWQTvKTLP8LG"
      }
    },
    {
      "cell_type": "code",
      "source": [
        "a = 200\n",
        "b = 33\n",
        "c = 500\n",
        "if a > b and c > a:\n",
        "  print(\"Both conditions are True\")"
      ],
      "metadata": {
        "id": "QAleOxD1QDp0",
        "colab": {
          "base_uri": "https://localhost:8080/"
        },
        "outputId": "fd0e262d-b72c-4c21-9432-735ddd2fd5d5"
      },
      "execution_count": null,
      "outputs": [
        {
          "output_type": "stream",
          "name": "stdout",
          "text": [
            "Both conditions are True\n"
          ]
        }
      ]
    },
    {
      "cell_type": "markdown",
      "source": [
        "### or\n",
        "The `or` keyword is a logical operator, and is used to combine conditional statements:"
      ],
      "metadata": {
        "id": "HqPtW5rnQNfm"
      }
    },
    {
      "cell_type": "code",
      "source": [
        "a = 200\n",
        "b = 33\n",
        "c = 500\n",
        "if a > b or a > c:\n",
        "  print(\"At least one of the conditions is True\")"
      ],
      "metadata": {
        "id": "cBZu3AueQMBF",
        "colab": {
          "base_uri": "https://localhost:8080/"
        },
        "outputId": "b2709b93-24ee-4f14-e726-770249a38081"
      },
      "execution_count": null,
      "outputs": [
        {
          "output_type": "stream",
          "name": "stdout",
          "text": [
            "At least one of the conditions is True\n"
          ]
        }
      ]
    },
    {
      "cell_type": "markdown",
      "source": [
        "### not\n",
        "The `not` keyword is a logical operator, and is used to reverse the result of the conditional statement:"
      ],
      "metadata": {
        "id": "8LXzQQfmQaL4"
      }
    },
    {
      "cell_type": "code",
      "source": [
        "a = 33\n",
        "b = 200\n",
        "if not a > b:\n",
        "  print(\"a is NOT greater than b\")"
      ],
      "metadata": {
        "id": "bGSV91bfQYyE",
        "colab": {
          "base_uri": "https://localhost:8080/"
        },
        "outputId": "e6a1aaee-2e4d-43e6-9d03-20aad9afe3f8"
      },
      "execution_count": null,
      "outputs": [
        {
          "output_type": "stream",
          "name": "stdout",
          "text": [
            "a is NOT greater than b\n"
          ]
        }
      ]
    },
    {
      "cell_type": "code",
      "source": [
        "# Exercise\n",
        "# Write an if-elif-else condition to check whether a given numer is even, odd, or not an integer\n",
        "a = 5.3\n",
        "if a % 2 == 0:\n",
        "  print(\"a is even\")\n",
        "elif a % 2 == 1:\n",
        "  print(\"a is odd\")\n",
        "else:\n",
        "  print(\"a is not an integer\")"
      ],
      "metadata": {
        "id": "H3rSrPV6pw9v",
        "colab": {
          "base_uri": "https://localhost:8080/"
        },
        "outputId": "fe90a073-165e-462c-8d6c-76b11a85754f"
      },
      "execution_count": null,
      "outputs": [
        {
          "output_type": "stream",
          "name": "stdout",
          "text": [
            "a is not an integer\n"
          ]
        }
      ]
    },
    {
      "cell_type": "markdown",
      "source": [
        "### Nested If\n",
        "You can have `if` statements inside `if` statements, this is called nested `if` statements."
      ],
      "metadata": {
        "id": "LRlAlU7JQoAz"
      }
    },
    {
      "cell_type": "code",
      "source": [
        "x = 41\n",
        "\n",
        "if x > 10:\n",
        "  print(\"x is above ten,\")\n",
        "  if x > 20:\n",
        "    print(\"And x is also above 20!\")\n",
        "  else:\n",
        "    print(\"but not above 20.\")"
      ],
      "metadata": {
        "id": "lOugG9O8Qmrc",
        "colab": {
          "base_uri": "https://localhost:8080/"
        },
        "outputId": "927f20ab-d999-4955-d689-644e2f15690c"
      },
      "execution_count": null,
      "outputs": [
        {
          "output_type": "stream",
          "name": "stdout",
          "text": [
            "x is above ten,\n",
            "And x is also above 20!\n"
          ]
        }
      ]
    },
    {
      "cell_type": "markdown",
      "source": [
        "# Python Loops\n",
        "\n",
        "Python has two primitive loop commands:\n",
        "\n",
        "- `while` loops\n",
        "- `for` loops"
      ],
      "metadata": {
        "id": "zLEulRzbRPpf"
      }
    },
    {
      "cell_type": "markdown",
      "source": [
        "## The While Loop\n",
        "With the `while` loop we can execute a set of statements as long as a condition is true."
      ],
      "metadata": {
        "id": "skFTWg7YRt-h"
      }
    },
    {
      "cell_type": "code",
      "source": [
        "# Remember to indent\n",
        "i = 1\n",
        "while i < 6:\n",
        "  print(i)\n",
        "  i += 1   # i = i +1"
      ],
      "metadata": {
        "id": "b-JlS6aqQ9l7",
        "colab": {
          "base_uri": "https://localhost:8080/"
        },
        "outputId": "bad4dd8f-c39b-4a38-af6b-b03c7c817a4f"
      },
      "execution_count": null,
      "outputs": [
        {
          "output_type": "stream",
          "name": "stdout",
          "text": [
            "1\n",
            "2\n",
            "3\n",
            "4\n",
            "5\n"
          ]
        }
      ]
    },
    {
      "cell_type": "markdown",
      "source": [
        "### The `break` Statement\n",
        "With the `break` statement we can stop the loop even if the while condition is true:"
      ],
      "metadata": {
        "id": "nWNDZGZCTe5y"
      }
    },
    {
      "cell_type": "code",
      "source": [
        "i = 1\n",
        "while i < 6:\n",
        "  print(i)\n",
        "  if i == 3:\n",
        "    break\n",
        "  i += 1"
      ],
      "metadata": {
        "id": "SZKOHnQER8cN",
        "colab": {
          "base_uri": "https://localhost:8080/"
        },
        "outputId": "010785e1-22b5-4593-ffc1-68af493c8e0b"
      },
      "execution_count": null,
      "outputs": [
        {
          "output_type": "stream",
          "name": "stdout",
          "text": [
            "1\n",
            "2\n",
            "3\n"
          ]
        }
      ]
    },
    {
      "cell_type": "markdown",
      "source": [
        "### The continue Statement\n",
        "With the `continue` statement we can stop the current iteration, and continue with the next:"
      ],
      "metadata": {
        "id": "igwVJu7mTsTw"
      }
    },
    {
      "cell_type": "code",
      "source": [
        "i = 0\n",
        "while i < 6:\n",
        "  i += 1\n",
        "  if i == 3:\n",
        "    continue\n",
        "  print(i)"
      ],
      "metadata": {
        "id": "i1ISQo4sTqJw",
        "colab": {
          "base_uri": "https://localhost:8080/"
        },
        "outputId": "94239c49-e244-40ec-e9c9-b9a2afb91a80"
      },
      "execution_count": null,
      "outputs": [
        {
          "output_type": "stream",
          "name": "stdout",
          "text": [
            "1\n",
            "2\n",
            "4\n",
            "5\n",
            "6\n"
          ]
        }
      ]
    },
    {
      "cell_type": "markdown",
      "source": [
        "## Python For Loops\n",
        "A `for` loop is used for iterating over a sequence.\n",
        "\n",
        "With the `for` loop we can execute a set of statements, once for each item in a list, tuple, set etc."
      ],
      "metadata": {
        "id": "rze8xGcUUKMY"
      }
    },
    {
      "cell_type": "code",
      "source": [
        "fruits = [\"apple\", \"banana\", \"cherry\"]\n",
        "for x in fruits:\n",
        "  print(x)"
      ],
      "metadata": {
        "id": "HAAU01BnT2Al",
        "colab": {
          "base_uri": "https://localhost:8080/"
        },
        "outputId": "2c913420-62a9-4c29-ef65-b878b471a6f6"
      },
      "execution_count": null,
      "outputs": [
        {
          "output_type": "stream",
          "name": "stdout",
          "text": [
            "apple\n",
            "banana\n",
            "cherry\n"
          ]
        }
      ]
    },
    {
      "cell_type": "code",
      "source": [
        "a = [1, 2, 3, 4, 5]\n",
        "for x in a:\n",
        "  print(x**2)"
      ],
      "metadata": {
        "id": "f8TQuhhFUltK",
        "colab": {
          "base_uri": "https://localhost:8080/"
        },
        "outputId": "e46c7ac7-192a-4ba2-dca5-91e20149b8f0"
      },
      "execution_count": null,
      "outputs": [
        {
          "output_type": "stream",
          "name": "stdout",
          "text": [
            "1\n",
            "4\n",
            "9\n",
            "16\n",
            "25\n"
          ]
        }
      ]
    },
    {
      "cell_type": "markdown",
      "source": [
        "Just like in `while` loop, we can use `break` and `continue` statements with for loop."
      ],
      "metadata": {
        "id": "kRfk6fSNU-WI"
      }
    },
    {
      "cell_type": "code",
      "source": [
        "# print name of the fruits but stop when x is \"banana\":\n",
        "fruits = [\"apple\", \"grapes\", \"banana\", \"cherry\"]\n",
        "for x in fruits:\n",
        "  print(x)\n",
        "  if x == \"banana\":\n",
        "    break"
      ],
      "metadata": {
        "id": "7wzImsfEUqTg",
        "colab": {
          "base_uri": "https://localhost:8080/"
        },
        "outputId": "691cec7f-8813-4cd0-ad3c-278194c67f3a"
      },
      "execution_count": null,
      "outputs": [
        {
          "output_type": "stream",
          "name": "stdout",
          "text": [
            "apple\n",
            "grapes\n",
            "banana\n"
          ]
        }
      ]
    },
    {
      "cell_type": "code",
      "source": [
        "# Print all fruits except banana:\n",
        "fruits = [\"apple\", \"grapes\", \"banana\", \"cherry\"]\n",
        "for x in fruits:\n",
        "  if x == \"banana\":\n",
        "    continue\n",
        "  print(x)"
      ],
      "metadata": {
        "id": "fF7RFBZOVZ0v",
        "colab": {
          "base_uri": "https://localhost:8080/"
        },
        "outputId": "cf7cb942-98bc-47ad-e50d-3442d2cf854e"
      },
      "execution_count": null,
      "outputs": [
        {
          "output_type": "stream",
          "name": "stdout",
          "text": [
            "apple\n",
            "grapes\n",
            "cherry\n"
          ]
        }
      ]
    },
    {
      "cell_type": "markdown",
      "source": [
        "### The `range()` Function\n",
        "To loop through a set of code a specified number of times, we can use the `range()` function,\n",
        "The r`ange()` function returns a sequence of numbers, starting from 0 by default, and increments by 1 (by default), and ends at a specified number.\n",
        "\n",
        "**range(start=0, end, step=1)**\n",
        "\n",
        "Again, the end value is not included."
      ],
      "metadata": {
        "id": "qge_QDITV7YN"
      }
    },
    {
      "cell_type": "code",
      "source": [
        "x = range(6)\n",
        "print(x)\n",
        "print(type(x))"
      ],
      "metadata": {
        "colab": {
          "base_uri": "https://localhost:8080/"
        },
        "id": "7qAhAMOXZ426",
        "outputId": "82bcaebc-43c8-47f9-9961-1d0d660eaccd"
      },
      "execution_count": 75,
      "outputs": [
        {
          "output_type": "stream",
          "name": "stdout",
          "text": [
            "range(0, 6)\n",
            "<class 'range'>\n"
          ]
        }
      ]
    },
    {
      "cell_type": "code",
      "source": [
        "for x in range(6):\n",
        "  print(x)"
      ],
      "metadata": {
        "id": "lch5jzSSWJS5",
        "colab": {
          "base_uri": "https://localhost:8080/"
        },
        "outputId": "ef680569-57a8-44f1-f1ac-fea4ef41bd19"
      },
      "execution_count": 76,
      "outputs": [
        {
          "output_type": "stream",
          "name": "stdout",
          "text": [
            "0\n",
            "1\n",
            "2\n",
            "3\n",
            "4\n",
            "5\n"
          ]
        }
      ]
    },
    {
      "cell_type": "code",
      "source": [
        "for x in range(2, 6):\n",
        "  print(x)"
      ],
      "metadata": {
        "id": "OjCJuKztWLkA",
        "colab": {
          "base_uri": "https://localhost:8080/"
        },
        "outputId": "24857bba-4b9c-46a1-a8e5-66669d4a3807"
      },
      "execution_count": null,
      "outputs": [
        {
          "output_type": "stream",
          "name": "stdout",
          "text": [
            "2\n",
            "3\n",
            "4\n",
            "5\n"
          ]
        }
      ]
    },
    {
      "cell_type": "code",
      "source": [
        "for x in range(2, 20, 3):\n",
        "  print(x)"
      ],
      "metadata": {
        "id": "HmNCkSp5WWLL",
        "colab": {
          "base_uri": "https://localhost:8080/"
        },
        "outputId": "7ee8145b-e02f-40b8-97cb-f3e876fe7977"
      },
      "execution_count": null,
      "outputs": [
        {
          "output_type": "stream",
          "name": "stdout",
          "text": [
            "2\n",
            "5\n",
            "8\n",
            "11\n",
            "14\n",
            "17\n"
          ]
        }
      ]
    },
    {
      "cell_type": "markdown",
      "source": [
        "### Nested Loops\n",
        "A nested loop is a loop inside a loop.\n",
        "\n",
        "The \"inner loop\" will be executed one time for each iteration of the \"outer loop\":"
      ],
      "metadata": {
        "id": "KlRcSwb3W-ie"
      }
    },
    {
      "cell_type": "code",
      "source": [
        "adj = [\"red\", \"big\", \"tasty\"]\n",
        "fruits = [\"apple\", \"banana\", \"cherry\"]\n",
        "\n",
        "for x in adj:\n",
        "  print(\"adj = \", x)\n",
        "  for y in fruits:\n",
        "    print(\"fruit = \", y)\n",
        "    print(x, y)"
      ],
      "metadata": {
        "id": "cfmszB0xWYl7",
        "colab": {
          "base_uri": "https://localhost:8080/"
        },
        "outputId": "3938c87a-d135-4957-f565-1784817b4da0"
      },
      "execution_count": 78,
      "outputs": [
        {
          "output_type": "stream",
          "name": "stdout",
          "text": [
            "adj =  red\n",
            "fruit =  apple\n",
            "red apple\n",
            "fruit =  banana\n",
            "red banana\n",
            "fruit =  cherry\n",
            "red cherry\n",
            "adj =  big\n",
            "fruit =  apple\n",
            "big apple\n",
            "fruit =  banana\n",
            "big banana\n",
            "fruit =  cherry\n",
            "big cherry\n",
            "adj =  tasty\n",
            "fruit =  apple\n",
            "tasty apple\n",
            "fruit =  banana\n",
            "tasty banana\n",
            "fruit =  cherry\n",
            "tasty cherry\n"
          ]
        }
      ]
    },
    {
      "cell_type": "markdown",
      "source": [
        "**Print out this using nested for loop**\n",
        "\n",
        "1\n",
        "\n",
        "2 2\n",
        "\n",
        "3 3 3\n",
        "\n",
        "4 4 4 4\n",
        "\n",
        "5 5 5 5 5\n",
        "\n",
        "6 6 6 6 6 6"
      ],
      "metadata": {
        "id": "xXEzopz4ZxCy"
      }
    },
    {
      "cell_type": "code",
      "source": [
        "for i in range(1, 7):\n",
        "  for j in range(i):\n",
        "    print(i, end=' ')\n",
        "  print()"
      ],
      "metadata": {
        "id": "U5XvXGEWXJMQ",
        "colab": {
          "base_uri": "https://localhost:8080/"
        },
        "outputId": "34c0922f-5cc2-4b56-c5a4-dd5475d0fd07"
      },
      "execution_count": 80,
      "outputs": [
        {
          "output_type": "stream",
          "name": "stdout",
          "text": [
            "1 \n",
            "2 2 \n",
            "3 3 3 \n",
            "4 4 4 4 \n",
            "5 5 5 5 5 \n",
            "6 6 6 6 6 6 \n"
          ]
        }
      ]
    },
    {
      "cell_type": "markdown",
      "source": [
        "# Python functions\n",
        "\n",
        "- A function is a block of code which only runs when it is called.\n",
        "\n",
        "- You can pass data, known as parameters, into a function.\n",
        "\n",
        "- A function can return data as a result.\n",
        "\n",
        "**Creating a Function**\n",
        "\n",
        "In Python, a function is defined using the `def` keyword:"
      ],
      "metadata": {
        "id": "RIl83MX0aj21"
      }
    },
    {
      "cell_type": "code",
      "source": [
        "def my_function():\n",
        "  print(\"Hello from my function!\")\n",
        "  print(\"Bye!\")"
      ],
      "metadata": {
        "id": "EWtkfhXzXcFK"
      },
      "execution_count": 83,
      "outputs": []
    },
    {
      "cell_type": "code",
      "source": [
        "my_function()"
      ],
      "metadata": {
        "id": "yzQGAxS5X1k_",
        "colab": {
          "base_uri": "https://localhost:8080/"
        },
        "outputId": "7cf959d9-3a35-47c9-80b4-8a11809fbb15"
      },
      "execution_count": 84,
      "outputs": [
        {
          "output_type": "stream",
          "name": "stdout",
          "text": [
            "Hello from my function!\n",
            "Bye!\n"
          ]
        }
      ]
    },
    {
      "cell_type": "markdown",
      "source": [
        "## Arguments\n",
        "Information can be passed into functions as arguments."
      ],
      "metadata": {
        "id": "XsKNbo66YjKA"
      }
    },
    {
      "cell_type": "code",
      "source": [
        "def my_function(name):\n",
        "  print(\"Hello, \" + name + \"!\")\n",
        "\n",
        "\n",
        "my_function(\"John\")\n",
        "my_function(\"Sara\")"
      ],
      "metadata": {
        "id": "31Qa2SYJX6sG",
        "colab": {
          "base_uri": "https://localhost:8080/"
        },
        "outputId": "4c43c6cd-1f5e-43d4-b337-5e224345907e"
      },
      "execution_count": 85,
      "outputs": [
        {
          "output_type": "stream",
          "name": "stdout",
          "text": [
            "Hello, John!\n",
            "Hello, Sara!\n"
          ]
        }
      ]
    },
    {
      "cell_type": "markdown",
      "source": [
        "You can use as many arguments (or parameters) as you want to define a function. Here is an example with two arguments."
      ],
      "metadata": {
        "id": "sodiJGWIZ8KO"
      }
    },
    {
      "cell_type": "code",
      "source": [
        "def my_function(fname, lname):\n",
        "  print(\"Hello, \" + fname + \" \" + lname + \"!\")\n",
        "\n",
        "my_function(\"John\", \"Doe\")"
      ],
      "metadata": {
        "id": "ljjeOUs_Y6bZ",
        "colab": {
          "base_uri": "https://localhost:8080/"
        },
        "outputId": "4971157b-d694-4e69-cfbb-55e941eaac7b"
      },
      "execution_count": 86,
      "outputs": [
        {
          "output_type": "stream",
          "name": "stdout",
          "text": [
            "Hello, John Doe!\n"
          ]
        }
      ]
    },
    {
      "cell_type": "markdown",
      "source": [
        "**Number of Arguments**\n",
        "\n",
        "A function must be called with the correct number of arguments. Meaning that if your function expects 2 arguments, you have to call the function with 2 arguments, not more, and not less."
      ],
      "metadata": {
        "id": "rBw6CLeVag8o"
      }
    },
    {
      "cell_type": "code",
      "source": [
        "my_function(\"John\")"
      ],
      "metadata": {
        "id": "qgYEA7ywaXJQ",
        "colab": {
          "base_uri": "https://localhost:8080/",
          "height": 139
        },
        "outputId": "2476aeeb-f87b-44c6-fc6e-d4da7e3b9c1b"
      },
      "execution_count": 87,
      "outputs": [
        {
          "output_type": "error",
          "ename": "TypeError",
          "evalue": "my_function() missing 1 required positional argument: 'lname'",
          "traceback": [
            "\u001b[0;31m---------------------------------------------------------------------------\u001b[0m",
            "\u001b[0;31mTypeError\u001b[0m                                 Traceback (most recent call last)",
            "\u001b[0;32m<ipython-input-87-24820d52cf1e>\u001b[0m in \u001b[0;36m<cell line: 1>\u001b[0;34m()\u001b[0m\n\u001b[0;32m----> 1\u001b[0;31m \u001b[0mmy_function\u001b[0m\u001b[0;34m(\u001b[0m\u001b[0;34m\"John\"\u001b[0m\u001b[0;34m)\u001b[0m\u001b[0;34m\u001b[0m\u001b[0;34m\u001b[0m\u001b[0m\n\u001b[0m",
            "\u001b[0;31mTypeError\u001b[0m: my_function() missing 1 required positional argument: 'lname'"
          ]
        }
      ]
    },
    {
      "cell_type": "code",
      "source": [
        "my_function(\"John\", \"Doe\", \"Smith\")"
      ],
      "metadata": {
        "id": "LoXe7eZram7k",
        "colab": {
          "base_uri": "https://localhost:8080/",
          "height": 139
        },
        "outputId": "a646a306-1a00-4e39-e772-418e3d7f76c1"
      },
      "execution_count": 88,
      "outputs": [
        {
          "output_type": "error",
          "ename": "TypeError",
          "evalue": "my_function() takes 2 positional arguments but 3 were given",
          "traceback": [
            "\u001b[0;31m---------------------------------------------------------------------------\u001b[0m",
            "\u001b[0;31mTypeError\u001b[0m                                 Traceback (most recent call last)",
            "\u001b[0;32m<ipython-input-88-0c157d04b579>\u001b[0m in \u001b[0;36m<cell line: 1>\u001b[0;34m()\u001b[0m\n\u001b[0;32m----> 1\u001b[0;31m \u001b[0mmy_function\u001b[0m\u001b[0;34m(\u001b[0m\u001b[0;34m\"John\"\u001b[0m\u001b[0;34m,\u001b[0m \u001b[0;34m\"Doe\"\u001b[0m\u001b[0;34m,\u001b[0m \u001b[0;34m\"Smith\"\u001b[0m\u001b[0;34m)\u001b[0m\u001b[0;34m\u001b[0m\u001b[0;34m\u001b[0m\u001b[0m\n\u001b[0m",
            "\u001b[0;31mTypeError\u001b[0m: my_function() takes 2 positional arguments but 3 were given"
          ]
        }
      ]
    },
    {
      "cell_type": "markdown",
      "source": [
        "**Default Parameter Value**\n",
        "\n",
        "The following example shows how to use a default parameter value."
      ],
      "metadata": {
        "id": "4wU4P6Cdaw2b"
      }
    },
    {
      "cell_type": "code",
      "source": [
        "def my_function(country = \"Norway\"):\n",
        "  print(\"I am from \" + country + \"!\")\n",
        "\n",
        "my_function()\n",
        "my_function(\"Sweden\")\n",
        "my_function(\"India\")\n",
        "my_function(\"Brazil\")"
      ],
      "metadata": {
        "id": "Gny-7JD6bDuo",
        "colab": {
          "base_uri": "https://localhost:8080/"
        },
        "outputId": "c91e3473-7d81-45a9-e49c-15bb3c101085"
      },
      "execution_count": 89,
      "outputs": [
        {
          "output_type": "stream",
          "name": "stdout",
          "text": [
            "I am from Norway!\n",
            "I am from Sweden!\n",
            "I am from India!\n",
            "I am from Brazil!\n"
          ]
        }
      ]
    },
    {
      "cell_type": "code",
      "source": [],
      "metadata": {
        "id": "KDQlgYXgefuv"
      },
      "execution_count": null,
      "outputs": []
    },
    {
      "cell_type": "markdown",
      "source": [
        "**Passing a List as an Argument**\n",
        "\n",
        "You can send any data types of argument to a function (string, number, list, dictionary etc.), and it will be treated as the same data type inside the function.\n",
        "\n",
        "E.g. if you send a List as an argument, it will still be a List when it reaches the function:"
      ],
      "metadata": {
        "id": "R9mXGWwbbTYq"
      }
    },
    {
      "cell_type": "code",
      "source": [
        "def my_function(food):\n",
        "  for x in food:\n",
        "    print(x)\n",
        "\n",
        "fruits = [\"apple\", \"banana\", \"cherry\"]\n",
        "\n",
        "my_function(fruits)"
      ],
      "metadata": {
        "id": "ajdMWzb6bH_p",
        "colab": {
          "base_uri": "https://localhost:8080/"
        },
        "outputId": "596cd2b8-0311-4171-a8e3-eeca9d08877a"
      },
      "execution_count": 90,
      "outputs": [
        {
          "output_type": "stream",
          "name": "stdout",
          "text": [
            "apple\n",
            "banana\n",
            "cherry\n"
          ]
        }
      ]
    },
    {
      "cell_type": "markdown",
      "source": [
        "## Return Values\n",
        "\n",
        "To let a function return a value, use the `return` statement:"
      ],
      "metadata": {
        "id": "nrzrJTXpbvNY"
      }
    },
    {
      "cell_type": "code",
      "source": [
        "def my_function(x):\n",
        "  return 5 * x\n",
        "\n",
        "y = my_function(6)\n",
        "print(y)"
      ],
      "metadata": {
        "id": "nJM8rhINbtN4",
        "colab": {
          "base_uri": "https://localhost:8080/"
        },
        "outputId": "b68ce962-d904-44d3-f4bd-a8391cbf7485"
      },
      "execution_count": 92,
      "outputs": [
        {
          "output_type": "stream",
          "name": "stdout",
          "text": [
            "30\n"
          ]
        }
      ]
    },
    {
      "cell_type": "markdown",
      "source": [
        "You can use mutiple arguments and define complicated functions. Here are few things to try out."
      ],
      "metadata": {
        "id": "_rtHHW7odVfu"
      }
    },
    {
      "cell_type": "code",
      "source": [
        "# Define a function that will calculate and return x^5 for any value of x\n",
        "\n",
        "def my_function(x):\n",
        "  return x**5\n",
        "\n",
        "print(my_function(3))\n",
        "print(my_function(5))"
      ],
      "metadata": {
        "id": "KZpe43Exb_DG",
        "colab": {
          "base_uri": "https://localhost:8080/"
        },
        "outputId": "e5e51c3d-6fb4-4729-e6e2-a42c829ec29c"
      },
      "execution_count": 93,
      "outputs": [
        {
          "output_type": "stream",
          "name": "stdout",
          "text": [
            "243\n",
            "3125\n"
          ]
        }
      ]
    },
    {
      "cell_type": "code",
      "source": [
        "# Define a function that will calculate and return (x+y)^2 for given values of x and y\n",
        "\n",
        "def my_function(x, y):\n",
        "  return (x+y)**2\n",
        "\n",
        "print(my_function(3, 4))\n",
        "print(my_function(5, 6))"
      ],
      "metadata": {
        "id": "bGEjs1Qsd7CJ",
        "colab": {
          "base_uri": "https://localhost:8080/"
        },
        "outputId": "b5044005-9eef-4731-d2b9-0e04695c6cda"
      },
      "execution_count": 94,
      "outputs": [
        {
          "output_type": "stream",
          "name": "stdout",
          "text": [
            "49\n",
            "121\n"
          ]
        }
      ]
    },
    {
      "cell_type": "code",
      "source": [
        "# Define a function that will calculate and return factorial(x) or x!\n",
        "# x! = 1*2*3*4*5*...*x\n",
        "# For example, 5! = 1*2*3*4*5 = 120\n",
        "\n",
        "def factorial(x):\n",
        "  fact = 1\n",
        "  for i in range(1, x+1):\n",
        "    fact = fact * i\n",
        "\n",
        "  return(fact)\n",
        "\n",
        "print(factorial(5))"
      ],
      "metadata": {
        "id": "UMuDb5QBeD70",
        "colab": {
          "base_uri": "https://localhost:8080/"
        },
        "outputId": "1734eb98-976d-4698-e9b8-ab3098742fa6"
      },
      "execution_count": 5,
      "outputs": [
        {
          "output_type": "stream",
          "name": "stdout",
          "text": [
            "120\n"
          ]
        }
      ]
    },
    {
      "cell_type": "markdown",
      "source": [
        "## Recursion\n",
        "\n",
        "Python also accepts function recursion, which means a defined function can call itself.\n",
        "\n",
        "Recursion is a common mathematical and programming concept. It means that a function calls itself. This has the benefit of meaning that you can loop through data to reach a result.\n",
        "\n",
        "Recursion must have a stopping criterion, i.e., the function must stop calling itself and return some value when a certain condition is reached."
      ],
      "metadata": {
        "id": "hyRhSbbFe6P6"
      }
    },
    {
      "cell_type": "code",
      "source": [
        "# Let us try to calculate the factorial again\n",
        "# x! = x * (x-1)!\n",
        "# 5! = 5 * 4! = 5 * 4 * !3 = 5 * 4 * 3 * 2! = 5 * 4 * 3 * 2 * 1! = 5 * 4 * 3 * 2 * 1 = 120\n",
        "\n",
        "def factorial(x):\n",
        "  if x == 1:\n",
        "    return 1\n",
        "  else:\n",
        "    return x * factorial(x-1)\n",
        "\n",
        "print(factorial(5))\n",
        "print(factorial(10))"
      ],
      "metadata": {
        "id": "tZfoSyNve9K_",
        "colab": {
          "base_uri": "https://localhost:8080/"
        },
        "outputId": "b119a35f-4b17-45f5-f805-8a30875a76f4"
      },
      "execution_count": 6,
      "outputs": [
        {
          "output_type": "stream",
          "name": "stdout",
          "text": [
            "120\n",
            "3628800\n"
          ]
        }
      ]
    },
    {
      "cell_type": "code",
      "source": [
        "# Fibonacci Sequence\n",
        "# The Fibonacci Sequence is a series of numbers:\n",
        "# 0, 1, 1, 2, 3, 5, 8, 13, 21, ...\n",
        "# Every next number is found by adding up the two numbers before it.\n",
        "\n",
        "# The first two numbers are 0 and 1.\n",
        "# The next number in the sequence is the sum of the previous two numbers.\n",
        "\n",
        "# Write a function that will return the nth Fibonacci number\n",
        "\n",
        "def fibonacci(n):\n",
        "  if n == 1:\n",
        "    return 0\n",
        "  elif n == 2:\n",
        "    return 1\n",
        "  else:\n",
        "    return fibonacci(n-1) + fibonacci(n-2)\n",
        "\n",
        "print(fibonacci(10))"
      ],
      "metadata": {
        "colab": {
          "base_uri": "https://localhost:8080/"
        },
        "id": "CRBsnik1hIbS",
        "outputId": "f18a60b6-0051-46c3-9ad4-2e7deb7c13a4"
      },
      "execution_count": 9,
      "outputs": [
        {
          "output_type": "stream",
          "name": "stdout",
          "text": [
            "34\n"
          ]
        }
      ]
    }
  ]
}